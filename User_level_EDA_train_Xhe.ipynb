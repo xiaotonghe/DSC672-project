{
 "cells": [
  {
   "cell_type": "markdown",
   "metadata": {},
   "source": [
    "import libraries"
   ]
  },
  {
   "cell_type": "code",
   "execution_count": 103,
   "metadata": {},
   "outputs": [],
   "source": [
    "import pandas as pd\n",
    "import glob\n",
    "import json\n",
    "from pandas import json_normalize\n",
    "from ast import literal_eval\n",
    "import numpy as np\n",
    "import seaborn as sns\n",
    "import matplotlib.pyplot as plt\n",
    "pd.set_option('max_columns', None)"
   ]
  },
  {
   "cell_type": "markdown",
   "metadata": {},
   "source": [
    "read data"
   ]
  },
  {
   "cell_type": "code",
   "execution_count": 11,
   "metadata": {},
   "outputs": [],
   "source": [
    "filename = 'train.csv'\n",
    "def read_file(file):\n",
    "    dtypes = {'date':'str','fullVisitorId': 'str'}\n",
    "    parse_dates = ['date']\n",
    "    USE_COLUMNS = [\n",
    "        'channelGrouping', 'date', 'device', 'fullVisitorId', 'geoNetwork',\n",
    "        'socialEngagementType', 'totals', 'trafficSource', 'visitId',\n",
    "        'visitNumber', 'visitStartTime',\n",
    "    ]\n",
    "    JSON_COLUMNS = ['device', 'geoNetwork', 'totals', 'trafficSource']\n",
    "    \n",
    "    df = pd.read_csv(file, dtype = dtypes, parse_dates = parse_dates,\n",
    "                    converters={column: json.loads for column in JSON_COLUMNS},\n",
    "                    usecols=USE_COLUMNS)\n",
    "    \n",
    "    df['year'] = df['date'].dt.year\n",
    "    df['month'] = df['date'].dt.month\n",
    "    df['day'] = df['date'].dt.day\n",
    "    df['dayofweek'] = df['date'].dt.dayofweek\n",
    "    \n",
    "    for column in JSON_COLUMNS:\n",
    "        column_as_df = json_normalize(df[column])\n",
    "        column_as_df.columns = [f\"{column}_{subcolumn}\" for subcolumn in column_as_df.columns]\n",
    "        df = df.drop(column, axis=1).merge(column_as_df, right_index=True, left_index=True)\n",
    "    \n",
    "    drop_cols = [\n",
    "    'socialEngagementType',\n",
    "    \n",
    "    'device_browserSize',\n",
    "    'device_operatingSystemVersion',\n",
    "    'device_mobileDeviceBranding',\n",
    "    'device_mobileDeviceModel',\n",
    "    'device_mobileInputSelector',\n",
    "    'device_mobileDeviceInfo',\n",
    "    'device_mobileDeviceMarketingName',\n",
    "    'device_flashVersion',\n",
    "    'device_language',\n",
    "    'device_screenColors',\n",
    "    'device_screenResolution',\n",
    "    \n",
    "    'geoNetwork_cityId',\n",
    "    'geoNetwork_latitude',\n",
    "    'geoNetwork_longitude',\n",
    "    'geoNetwork_networkLocation',\n",
    "    \n",
    "    'totals_visits',\n",
    "    \n",
    "    'trafficSource_adwordsClickInfo.criteriaParameters',\n",
    "    ]\n",
    "    \n",
    "    df = df.drop(drop_cols,axis=1)\n",
    "    return df"
   ]
  },
  {
   "cell_type": "code",
   "execution_count": 27,
   "metadata": {},
   "outputs": [],
   "source": [
    "df = read_file(filename)"
   ]
  },
  {
   "cell_type": "code",
   "execution_count": 28,
   "metadata": {},
   "outputs": [
    {
     "name": "stdout",
     "output_type": "stream",
     "text": [
      "<class 'pandas.core.frame.DataFrame'>\n",
      "RangeIndex: 903653 entries, 0 to 903652\n",
      "Data columns (total 40 columns):\n",
      " #   Column                                        Non-Null Count   Dtype         \n",
      "---  ------                                        --------------   -----         \n",
      " 0   channelGrouping                               903653 non-null  object        \n",
      " 1   date                                          903653 non-null  datetime64[ns]\n",
      " 2   fullVisitorId                                 903653 non-null  object        \n",
      " 3   visitId                                       903653 non-null  int64         \n",
      " 4   visitNumber                                   903653 non-null  int64         \n",
      " 5   visitStartTime                                903653 non-null  int64         \n",
      " 6   year                                          903653 non-null  int64         \n",
      " 7   month                                         903653 non-null  int64         \n",
      " 8   day                                           903653 non-null  int64         \n",
      " 9   dayofweek                                     903653 non-null  int64         \n",
      " 10  device_browser                                903653 non-null  object        \n",
      " 11  device_browserVersion                         903653 non-null  object        \n",
      " 12  device_operatingSystem                        903653 non-null  object        \n",
      " 13  device_isMobile                               903653 non-null  bool          \n",
      " 14  device_deviceCategory                         903653 non-null  object        \n",
      " 15  geoNetwork_continent                          903653 non-null  object        \n",
      " 16  geoNetwork_subContinent                       903653 non-null  object        \n",
      " 17  geoNetwork_country                            903653 non-null  object        \n",
      " 18  geoNetwork_region                             903653 non-null  object        \n",
      " 19  geoNetwork_metro                              903653 non-null  object        \n",
      " 20  geoNetwork_city                               903653 non-null  object        \n",
      " 21  geoNetwork_networkDomain                      903653 non-null  object        \n",
      " 22  totals_hits                                   903653 non-null  object        \n",
      " 23  totals_pageviews                              903553 non-null  object        \n",
      " 24  totals_bounces                                450630 non-null  object        \n",
      " 25  totals_newVisits                              703060 non-null  object        \n",
      " 26  totals_transactionRevenue                     11515 non-null   object        \n",
      " 27  trafficSource_campaign                        903653 non-null  object        \n",
      " 28  trafficSource_source                          903653 non-null  object        \n",
      " 29  trafficSource_medium                          903653 non-null  object        \n",
      " 30  trafficSource_keyword                         400724 non-null  object        \n",
      " 31  trafficSource_isTrueDirect                    274005 non-null  object        \n",
      " 32  trafficSource_referralPath                    330941 non-null  object        \n",
      " 33  trafficSource_adwordsClickInfo.page           21460 non-null   object        \n",
      " 34  trafficSource_adwordsClickInfo.slot           21460 non-null   object        \n",
      " 35  trafficSource_adwordsClickInfo.gclId          21561 non-null   object        \n",
      " 36  trafficSource_adwordsClickInfo.adNetworkType  21460 non-null   object        \n",
      " 37  trafficSource_adwordsClickInfo.isVideoAd      21460 non-null   object        \n",
      " 38  trafficSource_adContent                       10946 non-null   object        \n",
      " 39  trafficSource_campaignCode                    1 non-null       object        \n",
      "dtypes: bool(1), datetime64[ns](1), int64(7), object(31)\n",
      "memory usage: 269.7+ MB\n"
     ]
    }
   ],
   "source": [
    "df.info()"
   ]
  },
  {
   "cell_type": "code",
   "execution_count": 29,
   "metadata": {},
   "outputs": [],
   "source": [
    "# --fill missing values--\n",
    "def fill_missing(df):\n",
    "    values = {\n",
    "              'totals_transactionRevenue' : 0,\n",
    "              'trafficSource_adwordsClickInfo.isVideoAd' : True,\n",
    "              'trafficSource_isTrueDirect' : False,\n",
    "              'trafficSource_keyword' : '(not provided)',\n",
    "              'totals_pageviews' : 1, \n",
    "              'totals_bounces':0,\n",
    "              'totals_newVisits':0,\n",
    "              'totals_timeOnSite':0,\n",
    "              'totals_transactionRevenue':0\n",
    "             }\n",
    "    df = df.fillna(value=values)\n",
    "    \n",
    "    # --convert type--\n",
    "    df = df.astype({\n",
    "                'totals_hits': 'int64',\n",
    "                'totals_pageviews': 'int64',\n",
    "                'totals_newVisits': 'int64',\n",
    "                'totals_transactionRevenue': 'int64',\n",
    "                'totals_bounces': 'int64',})\n",
    "    return df"
   ]
  },
  {
   "cell_type": "code",
   "execution_count": 30,
   "metadata": {},
   "outputs": [],
   "source": [
    "clean_df = fill_missing(df)"
   ]
  },
  {
   "cell_type": "markdown",
   "metadata": {},
   "source": [
    "### feature engineering"
   ]
  },
  {
   "cell_type": "markdown",
   "metadata": {},
   "source": [
    "'totals_transactionRevenue' / 100000<br>\n",
    "because Total transaction revenue, expressed as the value passed to Analytics multiplied by 10^6 (e.g., 2.40 would be given as 2400000)."
   ]
  },
  {
   "cell_type": "code",
   "execution_count": 32,
   "metadata": {},
   "outputs": [],
   "source": [
    "clean_df['totals_transactionRevenue'] = clean_df['totals_transactionRevenue'].apply(lambda x: x/1000000) #apply along the row (axis=1)"
   ]
  },
  {
   "cell_type": "markdown",
   "metadata": {},
   "source": [
    "group by user"
   ]
  },
  {
   "cell_type": "code",
   "execution_count": 38,
   "metadata": {},
   "outputs": [],
   "source": [
    "# Grouping by CustomerID\n",
    "data_process = clean_df.groupby(['fullVisitorId']).agg({\n",
    "        'fullVisitorId': 'count',\n",
    "        'totals_hits': 'sum',\n",
    "        'totals_transactionRevenue':'sum'\n",
    "})\n",
    "# Rename the columns \n",
    "data_process.rename(columns={\n",
    "                         'fullVisitorId': 'total visits',\n",
    "                         'totals_hits': 'totals_hits',\n",
    "                         'totals_transactionRevenue':'total purchases value'\n",
    "                    }, inplace=True)"
   ]
  },
  {
   "cell_type": "code",
   "execution_count": 56,
   "metadata": {},
   "outputs": [
    {
     "data": {
      "text/plain": [
       "Timestamp('2017-08-01 00:00:00')"
      ]
     },
     "execution_count": 56,
     "metadata": {},
     "output_type": "execute_result"
    }
   ],
   "source": [
    "clean_df['date'].max()"
   ]
  },
  {
   "cell_type": "code",
   "execution_count": 57,
   "metadata": {},
   "outputs": [
    {
     "data": {
      "text/plain": [
       "Timestamp('2016-08-01 00:00:00')"
      ]
     },
     "execution_count": 57,
     "metadata": {},
     "output_type": "execute_result"
    }
   ],
   "source": [
    "clean_df['date'].min()"
   ]
  },
  {
   "cell_type": "code",
   "execution_count": 39,
   "metadata": {},
   "outputs": [],
   "source": [
    "data_process['recent_visit_date'] = clean_df.groupby('fullVisitorId').agg({'date':'max'})\n",
    "data_process['first_visit_date'] = clean_df.groupby('fullVisitorId').agg({'date':'min'})\n",
    "data_process['total_transactionRevenue'] = clean_df.groupby('fullVisitorId').agg({'totals_transactionRevenue':'sum'})\n",
    "data_process['max_transactionRevenue'] = clean_df.groupby('fullVisitorId').agg({'totals_transactionRevenue':'max'})\n",
    "data_process['min_transactionRevenue'] = clean_df.groupby('fullVisitorId').agg({'totals_transactionRevenue':'min'})\n",
    "data_process['avg_transactionRevenue'] = clean_df.groupby('fullVisitorId').agg({'totals_transactionRevenue':'mean'})"
   ]
  },
  {
   "cell_type": "code",
   "execution_count": 59,
   "metadata": {},
   "outputs": [],
   "source": [
    "data_process['avg_hits'] = clean_df.groupby('fullVisitorId').agg({'totals_hits':'mean'})"
   ]
  },
  {
   "cell_type": "code",
   "execution_count": 62,
   "metadata": {},
   "outputs": [],
   "source": [
    "data_process['total_pageviews']=clean_df.groupby('fullVisitorId').agg({'totals_pageviews':'sum'})\n",
    "data_process['avg_pageviews']=clean_df.groupby('fullVisitorId').agg({'totals_pageviews':'mean'})"
   ]
  },
  {
   "cell_type": "code",
   "execution_count": 174,
   "metadata": {},
   "outputs": [],
   "source": [
    "data_process['Length of relationship'] = (pd.to_datetime('2017-08-01')-data_process['first_visit_date']).dt.days"
   ]
  },
  {
   "cell_type": "code",
   "execution_count": 175,
   "metadata": {},
   "outputs": [],
   "source": [
    "data_process['days_since_most_recent_visit']=(pd.to_datetime('2017-08-01')-data_process['recent_visit_date']).dt.days"
   ]
  },
  {
   "cell_type": "code",
   "execution_count": 65,
   "metadata": {},
   "outputs": [],
   "source": [
    "data_process['return_user'] = data_process.apply(lambda x: 1 if x['visit frequency'] > 1 else 0, axis=1)"
   ]
  },
  {
   "cell_type": "code",
   "execution_count": 185,
   "metadata": {},
   "outputs": [],
   "source": [
    "data_process['non_purchse_times'] = clean_df.groupby('fullVisitorId')['totals_transactionRevenue'].agg(lambda x: x.eq(0).sum())"
   ]
  },
  {
   "cell_type": "code",
   "execution_count": 209,
   "metadata": {},
   "outputs": [],
   "source": [
    "data_process['purchase_times'] = data_process['visit frequency'] - data_process['non_purchse_times']"
   ]
  },
  {
   "cell_type": "code",
   "execution_count": 186,
   "metadata": {},
   "outputs": [
    {
     "name": "stdout",
     "output_type": "stream",
     "text": [
      "<class 'pandas.core.frame.DataFrame'>\n",
      "Index: 714167 entries, 0000010278554503158 to 9999986437109498564\n",
      "Data columns (total 16 columns):\n",
      " #   Column                        Non-Null Count   Dtype         \n",
      "---  ------                        --------------   -----         \n",
      " 0   visit frequency               714167 non-null  int64         \n",
      " 1   totals_hits                   714167 non-null  int64         \n",
      " 2   total purchases value         714167 non-null  float64       \n",
      " 3   recent_visit_date             714167 non-null  datetime64[ns]\n",
      " 4   first_visit_date              714167 non-null  datetime64[ns]\n",
      " 5   total_transactionRevenue      714167 non-null  float64       \n",
      " 6   max_transactionRevenue        714167 non-null  float64       \n",
      " 7   min_transactionRevenue        714167 non-null  float64       \n",
      " 8   avg_transactionRevenue        714167 non-null  float64       \n",
      " 9   Length of relationship        714167 non-null  int64         \n",
      " 10  days_since_most_recent_visit  714167 non-null  int64         \n",
      " 11  avg_hits                      714167 non-null  float64       \n",
      " 12  total_pageviews               714167 non-null  int64         \n",
      " 13  avg_pageviews                 714167 non-null  float64       \n",
      " 14  return_user                   714167 non-null  int64         \n",
      " 15  non_purchse_times             714167 non-null  float64       \n",
      "dtypes: datetime64[ns](2), float64(8), int64(6)\n",
      "memory usage: 112.6+ MB\n"
     ]
    }
   ],
   "source": [
    "data_process.info()"
   ]
  },
  {
   "cell_type": "code",
   "execution_count": 212,
   "metadata": {},
   "outputs": [],
   "source": [
    "return_df = data_process.groupby(['return_user']).agg({\n",
    "        'total purchases value': 'sum',\n",
    "        'days_since_most_recent_visit': 'mean',\n",
    "        'max_transactionRevenue':'max',\n",
    "        'non_purchse_times':'sum',\n",
    "        'visit frequency':'sum',\n",
    "        'purchase_times':'sum',\n",
    "        \n",
    "})\n",
    "# Rename the columns \n",
    "return_df.rename(columns={\n",
    "                         'total purchases value': 'total purchases value',\n",
    "                         'days_since_most_recent_visit': 'days_since_most_recent_visit',\n",
    "                         'max_transactionRevenue':'max_transactionRevenue',\n",
    "                         'non_purchse_times':'non_purchse_times',\n",
    "                         'visit frequency':'total visits',\n",
    "                         'purchase_times':'purchase_times'\n",
    "                        \n",
    "                    }, inplace=True)\n"
   ]
  },
  {
   "cell_type": "code",
   "execution_count": 203,
   "metadata": {},
   "outputs": [],
   "source": [
    "return_df['non_purchse_times_rate'] =  return_df['non_purchse_times']/return_df['total visits']\n",
    "return_df['avg_transactionRevenue'] = return_df['total purchases value']/return_df['purchase_times']"
   ]
  },
  {
   "cell_type": "code",
   "execution_count": 208,
   "metadata": {},
   "outputs": [
    {
     "data": {
      "text/html": [
       "<div>\n",
       "<style scoped>\n",
       "    .dataframe tbody tr th:only-of-type {\n",
       "        vertical-align: middle;\n",
       "    }\n",
       "\n",
       "    .dataframe tbody tr th {\n",
       "        vertical-align: top;\n",
       "    }\n",
       "\n",
       "    .dataframe thead th {\n",
       "        text-align: right;\n",
       "    }\n",
       "</style>\n",
       "<table border=\"1\" class=\"dataframe\">\n",
       "  <thead>\n",
       "    <tr style=\"text-align: right;\">\n",
       "      <th></th>\n",
       "      <th>total purchases value</th>\n",
       "      <th>days_since_most_recent_visit</th>\n",
       "      <th>max_transactionRevenue</th>\n",
       "      <th>avg_transactionRevenue</th>\n",
       "      <th>non_purchse_times_rate</th>\n",
       "    </tr>\n",
       "    <tr>\n",
       "      <th>return_user</th>\n",
       "      <th></th>\n",
       "      <th></th>\n",
       "      <th></th>\n",
       "      <th></th>\n",
       "      <th></th>\n",
       "    </tr>\n",
       "  </thead>\n",
       "  <tbody>\n",
       "    <tr>\n",
       "      <th>0</th>\n",
       "      <td>237084.23</td>\n",
       "      <td>195.622405</td>\n",
       "      <td>3026.1</td>\n",
       "      <td>0.381978</td>\n",
       "      <td>0.994973</td>\n",
       "    </tr>\n",
       "    <tr>\n",
       "      <th>1</th>\n",
       "      <td>1302987.01</td>\n",
       "      <td>173.248310</td>\n",
       "      <td>23129.5</td>\n",
       "      <td>3.000401</td>\n",
       "      <td>0.970333</td>\n",
       "    </tr>\n",
       "  </tbody>\n",
       "</table>\n",
       "</div>"
      ],
      "text/plain": [
       "             total purchases value  days_since_most_recent_visit  \\\n",
       "return_user                                                        \n",
       "0                        237084.23                    195.622405   \n",
       "1                       1302987.01                    173.248310   \n",
       "\n",
       "             max_transactionRevenue  avg_transactionRevenue  \\\n",
       "return_user                                                   \n",
       "0                            3026.1                0.381978   \n",
       "1                           23129.5                3.000401   \n",
       "\n",
       "             non_purchse_times_rate  \n",
       "return_user                          \n",
       "0                          0.994973  \n",
       "1                          0.970333  "
      ]
     },
     "execution_count": 208,
     "metadata": {},
     "output_type": "execute_result"
    }
   ],
   "source": [
    "return_df.drop(['non_purchse_times','total visits','purchase_times'],axis=1)"
   ]
  },
  {
   "cell_type": "markdown",
   "metadata": {},
   "source": [
    "visualization"
   ]
  },
  {
   "cell_type": "markdown",
   "metadata": {},
   "source": [
    "return users and non return users distribution"
   ]
  },
  {
   "cell_type": "code",
   "execution_count": 107,
   "metadata": {},
   "outputs": [
    {
     "data": {
      "image/png": "[encoded data removed]",
      "text/plain": [
       "<Figure size 432x288 with 1 Axes>"
      ]
     },
     "metadata": {
      "needs_background": "light"
     },
     "output_type": "display_data"
    }
   ],
   "source": [
    "plot = data_process['return_user'].value_counts().plot.bar(title='return users stats')\n",
    "plot.set_facecolor('white') "
   ]
  },
  {
   "cell_type": "code",
   "execution_count": 93,
   "metadata": {},
   "outputs": [
    {
     "data": {
      "text/plain": [
       "Text(0.5, 0, 'avg spending')"
      ]
     },
     "execution_count": 93,
     "metadata": {},
     "output_type": "execute_result"
    },
    {
     "data": {
      "image/png": "[encoded data removed]",
      "text/plain": [
       "<Figure size 432x288 with 1 Axes>"
      ]
     },
     "metadata": {
      "needs_background": "light"
     },
     "output_type": "display_data"
    }
   ],
   "source": [
    "plot = data_process[(data_process['return_user']==0) & (data_process['total purchases value']>0)&(data_process['total purchases value']<300)]['avg_transactionRevenue'].plot(kind='hist',title='non return users avg spending')\n",
    "plot.set_xlabel(\"avg spending\")"
   ]
  },
  {
   "cell_type": "code",
   "execution_count": 92,
   "metadata": {},
   "outputs": [
    {
     "data": {
      "text/plain": [
       "Text(0.5, 0, 'avg spending')"
      ]
     },
     "execution_count": 92,
     "metadata": {},
     "output_type": "execute_result"
    },
    {
     "data": {
      "image/png": "[encoded data removed]",
      "text/plain": [
       "<Figure size 432x288 with 1 Axes>"
      ]
     },
     "metadata": {
      "needs_background": "light"
     },
     "output_type": "display_data"
    }
   ],
   "source": [
    "plot = data_process[(data_process['return_user']==1) & (data_process['total purchases value']>0)&(data_process['total purchases value']<300)]['avg_transactionRevenue'].plot(kind='hist',title='return users avg spending')\n",
    "plot.set_xlabel(\"avg spending\")"
   ]
  },
  {
   "cell_type": "code",
   "execution_count": 100,
   "metadata": {},
   "outputs": [
    {
     "data": {
      "image/png": "[encoded data removed]",
      "text/plain": [
       "<Figure size 432x288 with 1 Axes>"
      ]
     },
     "metadata": {
      "needs_background": "light"
     },
     "output_type": "display_data"
    }
   ],
   "source": [
    "colors = {1:'red',0:'blue'}\n",
    "plot = data_process.plot.scatter(x='avg_hits',\n",
    "                      y='avg_transactionRevenue',\n",
    "                      c=data_process['return_user'].map(colors))\n",
    "                      "
   ]
  },
  {
   "cell_type": "code",
   "execution_count": 104,
   "metadata": {},
   "outputs": [
    {
     "data": {
      "image/png": "[encoded data removed]",
      "text/plain": [
       "<Figure size 425.875x360 with 1 Axes>"
      ]
     },
     "metadata": {
      "needs_background": "light"
     },
     "output_type": "display_data"
    }
   ],
   "source": [
    "sns.lmplot('avg_hits', 'avg_transactionRevenue', data=data_process, hue='return_user', fit_reg=False)\n",
    "plt.show()"
   ]
  },
  {
   "cell_type": "markdown",
   "metadata": {},
   "source": [
    "total purchase pre channel"
   ]
  },
  {
   "cell_type": "code",
   "execution_count": 147,
   "metadata": {},
   "outputs": [
    {
     "data": {
      "image/png": "[encoded data removed]",
      "text/plain": [
       "<Figure size 432x288 with 1 Axes>"
      ]
     },
     "metadata": {
      "needs_background": "light"
     },
     "output_type": "display_data"
    }
   ],
   "source": [
    "data = clean_df.groupby('trafficSource_source').agg({'totals_transactionRevenue':'sum'})\n",
    "data = data[data['totals_transactionRevenue']>0].sort_values(by='totals_transactionRevenue',ascending=False)\n",
    "data = data[:20]\n",
    "plot = data.plot(kind='bar')"
   ]
  },
  {
   "cell_type": "code",
   "execution_count": 146,
   "metadata": {},
   "outputs": [
    {
     "data": {
      "image/png": "[encoded data removed]",
      "text/plain": [
       "<Figure size 432x288 with 1 Axes>"
      ]
     },
     "metadata": {
      "needs_background": "light"
     },
     "output_type": "display_data"
    }
   ],
   "source": [
    "data = clean_df.groupby('channelGrouping').agg({'totals_transactionRevenue':'sum'}).sort_values(by='totals_transactionRevenue',ascending=False)\n",
    "plot = data.plot(kind='bar')"
   ]
  },
  {
   "cell_type": "code",
   "execution_count": null,
   "metadata": {},
   "outputs": [],
   "source": [
    "agg({'totals_transactionRevenue':'sum'})"
   ]
  },
  {
   "cell_type": "code",
   "execution_count": null,
   "metadata": {},
   "outputs": [],
   "source": []
  }
 ],
 "metadata": {
  "kernelspec": {
   "display_name": "Python 3",
   "language": "python",
   "name": "python3"
  },
  "language_info": {
   "codemirror_mode": {
    "name": "ipython",
    "version": 3
   },
   "file_extension": ".py",
   "mimetype": "text/x-python",
   "name": "python",
   "nbconvert_exporter": "python",
   "pygments_lexer": "ipython3",
   "version": "3.7.6"
  }
 },
 "nbformat": 4,
 "nbformat_minor": 4
}
